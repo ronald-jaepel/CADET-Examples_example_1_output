version https://git-lfs.github.com/spec/v1
oid sha256:4e7b2aff42d60f1ed0a1d26e160279ca67fb4abe5956fa6cc3cb9b35781cd0b9
size 6599
