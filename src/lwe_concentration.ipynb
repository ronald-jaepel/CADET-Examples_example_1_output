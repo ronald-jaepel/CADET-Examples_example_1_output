version https://git-lfs.github.com/spec/v1
oid sha256:2c630736d337728c1125a6903c05bce46f2bfd3b6f2071810dfe88cd77b1df9c
size 127543
