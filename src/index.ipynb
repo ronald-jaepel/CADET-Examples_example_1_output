version https://git-lfs.github.com/spec/v1
oid sha256:b81f82e4c4b993d916f9f0545fef96c95e4c44af7e4caf74442907416a21dd7d
size 2620
