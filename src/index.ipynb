version https://git-lfs.github.com/spec/v1
oid sha256:ab4a65f29371bc06db79cd121baa5abac585dd82ce21e7d4e2f6e1a6c3185794
size 3940
