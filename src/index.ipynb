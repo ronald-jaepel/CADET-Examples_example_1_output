version https://git-lfs.github.com/spec/v1
oid sha256:58ac57f4d1438a2481e3e87af4cf7f7f152dcd85fb4b3dd07abd3c3b4f23dad3
size 2620
