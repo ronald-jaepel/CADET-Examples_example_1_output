version https://git-lfs.github.com/spec/v1
oid sha256:d24a00e716e25436b86db310265d3611a5a1df3f6c088421517fc478261493a8
size 7529
